{
 "cells": [
  {
   "cell_type": "markdown",
   "id": "40929d00",
   "metadata": {},
   "source": [
    "# Importing Necessary Modules"
   ]
  },
  {
   "cell_type": "code",
   "execution_count": 352,
   "id": "28bd0867",
   "metadata": {},
   "outputs": [],
   "source": [
    "import pandas as pd\n",
    "import matplotlib.pyplot as plt\n",
    "import seaborn as sns\n",
    "import numpy as np\n",
    "\n",
    "import warnings\n",
    "warnings.filterwarnings('ignore')\n",
    "pd.set_option('display.max.columns', None)\n",
    "\n",
    "from scipy.stats import skew\n",
    "from sklearn.metrics import classification_report\n",
    "from sklearn.metrics import confusion_matrix\n",
    "from sklearn.metrics import accuracy_score\n",
    "from sklearn.metrics import r2_score\n",
    "\n",
    "from sklearn.model_selection import train_test_split\n",
    "from sklearn.preprocessing import StandardScaler"
   ]
  },
  {
   "cell_type": "markdown",
   "id": "43f369dd",
   "metadata": {},
   "source": [
    "# Importing Dataset "
   ]
  },
  {
   "cell_type": "code",
   "execution_count": 353,
   "id": "6205ce1e",
   "metadata": {},
   "outputs": [
    {
     "data": {
      "text/html": [
       "<div>\n",
       "<style scoped>\n",
       "    .dataframe tbody tr th:only-of-type {\n",
       "        vertical-align: middle;\n",
       "    }\n",
       "\n",
       "    .dataframe tbody tr th {\n",
       "        vertical-align: top;\n",
       "    }\n",
       "\n",
       "    .dataframe thead th {\n",
       "        text-align: right;\n",
       "    }\n",
       "</style>\n",
       "<table border=\"1\" class=\"dataframe\">\n",
       "  <thead>\n",
       "    <tr style=\"text-align: right;\">\n",
       "      <th></th>\n",
       "      <th>tau1</th>\n",
       "      <th>tau2</th>\n",
       "      <th>tau3</th>\n",
       "      <th>tau4</th>\n",
       "      <th>p1</th>\n",
       "      <th>p2</th>\n",
       "      <th>p3</th>\n",
       "      <th>p4</th>\n",
       "      <th>g1</th>\n",
       "      <th>g2</th>\n",
       "      <th>g3</th>\n",
       "      <th>g4</th>\n",
       "      <th>stab</th>\n",
       "      <th>stabf</th>\n",
       "    </tr>\n",
       "  </thead>\n",
       "  <tbody>\n",
       "    <tr>\n",
       "      <th>0</th>\n",
       "      <td>2.959060</td>\n",
       "      <td>3.079885</td>\n",
       "      <td>8.381025</td>\n",
       "      <td>9.780754</td>\n",
       "      <td>3.763085</td>\n",
       "      <td>-0.782604</td>\n",
       "      <td>-1.257395</td>\n",
       "      <td>-1.723086</td>\n",
       "      <td>0.650456</td>\n",
       "      <td>0.859578</td>\n",
       "      <td>0.887445</td>\n",
       "      <td>0.958034</td>\n",
       "      <td>0.055347</td>\n",
       "      <td>unstable</td>\n",
       "    </tr>\n",
       "    <tr>\n",
       "      <th>1</th>\n",
       "      <td>9.304097</td>\n",
       "      <td>4.902524</td>\n",
       "      <td>3.047541</td>\n",
       "      <td>1.369357</td>\n",
       "      <td>5.067812</td>\n",
       "      <td>-1.940058</td>\n",
       "      <td>-1.872742</td>\n",
       "      <td>-1.255012</td>\n",
       "      <td>0.413441</td>\n",
       "      <td>0.862414</td>\n",
       "      <td>0.562139</td>\n",
       "      <td>0.781760</td>\n",
       "      <td>-0.005957</td>\n",
       "      <td>stable</td>\n",
       "    </tr>\n",
       "  </tbody>\n",
       "</table>\n",
       "</div>"
      ],
      "text/plain": [
       "       tau1      tau2      tau3      tau4        p1        p2        p3  \\\n",
       "0  2.959060  3.079885  8.381025  9.780754  3.763085 -0.782604 -1.257395   \n",
       "1  9.304097  4.902524  3.047541  1.369357  5.067812 -1.940058 -1.872742   \n",
       "\n",
       "         p4        g1        g2        g3        g4      stab     stabf  \n",
       "0 -1.723086  0.650456  0.859578  0.887445  0.958034  0.055347  unstable  \n",
       "1 -1.255012  0.413441  0.862414  0.562139  0.781760 -0.005957    stable  "
      ]
     },
     "execution_count": 353,
     "metadata": {},
     "output_type": "execute_result"
    }
   ],
   "source": [
    "data = pd.read_csv('smart_grid.csv')\n",
    "data.head(2)"
   ]
  },
  {
   "cell_type": "code",
   "execution_count": 354,
   "id": "ee5909ad",
   "metadata": {},
   "outputs": [
    {
     "data": {
      "text/plain": [
       "tau1     0\n",
       "tau2     0\n",
       "tau3     0\n",
       "tau4     0\n",
       "p1       0\n",
       "p2       0\n",
       "p3       0\n",
       "p4       0\n",
       "g1       0\n",
       "g2       0\n",
       "g3       0\n",
       "g4       0\n",
       "stab     0\n",
       "stabf    0\n",
       "dtype: int64"
      ]
     },
     "execution_count": 354,
     "metadata": {},
     "output_type": "execute_result"
    }
   ],
   "source": [
    "data.isnull().sum()"
   ]
  },
  {
   "cell_type": "code",
   "execution_count": 355,
   "id": "e0775e42",
   "metadata": {},
   "outputs": [
    {
     "data": {
      "text/plain": [
       "(60000, 14)"
      ]
     },
     "execution_count": 355,
     "metadata": {},
     "output_type": "execute_result"
    }
   ],
   "source": [
    "data.shape"
   ]
  },
  {
   "cell_type": "code",
   "execution_count": 356,
   "id": "c8c85806",
   "metadata": {},
   "outputs": [],
   "source": [
    "data['stbf'] = data['stabf'].map({'unstable':0, \"stable\":1})"
   ]
  },
  {
   "cell_type": "markdown",
   "id": "172dc3c2",
   "metadata": {},
   "source": [
    "# Plotting the Distribution Curve"
   ]
  },
  {
   "cell_type": "code",
   "execution_count": 357,
   "id": "bf36ba8e",
   "metadata": {},
   "outputs": [
    {
     "data": {
      "text/plain": [
       "<AxesSubplot:xlabel='tau1', ylabel='Density'>"
      ]
     },
     "execution_count": 357,
     "metadata": {},
     "output_type": "execute_result"
    },
    {
     "data": {
      "image/png": "[encoded data removed]",
      "text/plain": [
       "<Figure size 432x288 with 1 Axes>"
      ]
     },
     "metadata": {
      "needs_background": "light"
     },
     "output_type": "display_data"
    }
   ],
   "source": [
    "sns.distplot(data.tau1, hist=False)"
   ]
  },
  {
   "cell_type": "code",
   "execution_count": 358,
   "id": "f878f91f",
   "metadata": {},
   "outputs": [
    {
     "data": {
      "text/plain": [
       "<AxesSubplot:xlabel='tau2', ylabel='Density'>"
      ]
     },
     "execution_count": 358,
     "metadata": {},
     "output_type": "execute_result"
    },
    {
     "data": {
      "image/png": "[encoded data removed]",
      "text/plain": [
       "<Figure size 432x288 with 1 Axes>"
      ]
     },
     "metadata": {
      "needs_background": "light"
     },
     "output_type": "display_data"
    }
   ],
   "source": [
    "sns.distplot(data.tau2, hist=False)"
   ]
  },
  {
   "cell_type": "code",
   "execution_count": 359,
   "id": "e19d6f59",
   "metadata": {},
   "outputs": [
    {
     "data": {
      "text/plain": [
       "<AxesSubplot:xlabel='tau3', ylabel='Density'>"
      ]
     },
     "execution_count": 359,
     "metadata": {},
     "output_type": "execute_result"
    },
    {
     "data": {
      "image/png": "[encoded data removed]",
      "text/plain": [
       "<Figure size 432x288 with 1 Axes>"
      ]
     },
     "metadata": {
      "needs_background": "light"
     },
     "output_type": "display_data"
    }
   ],
   "source": [
    "sns.distplot(data.tau3, hist=False)"
   ]
  },
  {
   "cell_type": "code",
   "execution_count": 360,
   "id": "2e1c979d",
   "metadata": {},
   "outputs": [
    {
     "data": {
      "text/plain": [
       "<AxesSubplot:xlabel='tau4', ylabel='Density'>"
      ]
     },
     "execution_count": 360,
     "metadata": {},
     "output_type": "execute_result"
    },
    {
     "data": {
      "image/png": "[encoded data removed]",
      "text/plain": [
       "<Figure size 432x288 with 1 Axes>"
      ]
     },
     "metadata": {
      "needs_background": "light"
     },
     "output_type": "display_data"
    }
   ],
   "source": [
    "sns.distplot(data.tau4, hist=False)"
   ]
  },
  {
   "cell_type": "code",
   "execution_count": 361,
   "id": "31aa5d44",
   "metadata": {},
   "outputs": [
    {
     "data": {
      "text/plain": [
       "<AxesSubplot:xlabel='p1', ylabel='Density'>"
      ]
     },
     "execution_count": 361,
     "metadata": {},
     "output_type": "execute_result"
    },
    {
     "data": {
      "image/png": "[encoded data removed]",
      "text/plain": [
       "<Figure size 432x288 with 1 Axes>"
      ]
     },
     "metadata": {
      "needs_background": "light"
     },
     "output_type": "display_data"
    }
   ],
   "source": [
    "sns.distplot(data.p1, hist=False)"
   ]
  },
  {
   "cell_type": "code",
   "execution_count": 362,
   "id": "efe3cec4",
   "metadata": {},
   "outputs": [
    {
     "data": {
      "text/plain": [
       "<AxesSubplot:xlabel='p2', ylabel='Density'>"
      ]
     },
     "execution_count": 362,
     "metadata": {},
     "output_type": "execute_result"
    },
    {
     "data": {
      "image/png": "[encoded data removed]",
      "text/plain": [
       "<Figure size 432x288 with 1 Axes>"
      ]
     },
     "metadata": {
      "needs_background": "light"
     },
     "output_type": "display_data"
    }
   ],
   "source": [
    "sns.distplot(data.p2, hist=False)"
   ]
  },
  {
   "cell_type": "code",
   "execution_count": 363,
   "id": "1a878c6b",
   "metadata": {},
   "outputs": [
    {
     "data": {
      "text/plain": [
       "<AxesSubplot:xlabel='p3', ylabel='Density'>"
      ]
     },
     "execution_count": 363,
     "metadata": {},
     "output_type": "execute_result"
    },
    {
     "data": {
      "image/png": "[encoded data removed]",
      "text/plain": [
       "<Figure size 432x288 with 1 Axes>"
      ]
     },
     "metadata": {
      "needs_background": "light"
     },
     "output_type": "display_data"
    }
   ],
   "source": [
    "sns.distplot(data.p3, hist=False)"
   ]
  },
  {
   "cell_type": "code",
   "execution_count": 364,
   "id": "8c2b7625",
   "metadata": {},
   "outputs": [
    {
     "data": {
      "text/plain": [
       "<AxesSubplot:xlabel='p4', ylabel='Density'>"
      ]
     },
     "execution_count": 364,
     "metadata": {},
     "output_type": "execute_result"
    },
    {
     "data": {
      "image/png": "[encoded data removed]",
      "text/plain": [
       "<Figure size 432x288 with 1 Axes>"
      ]
     },
     "metadata": {
      "needs_background": "light"
     },
     "output_type": "display_data"
    }
   ],
   "source": [
    "sns.distplot(data.p4, hist=False)"
   ]
  },
  {
   "cell_type": "code",
   "execution_count": 365,
   "id": "e7d3ce41",
   "metadata": {},
   "outputs": [
    {
     "data": {
      "text/plain": [
       "<AxesSubplot:xlabel='g1', ylabel='Density'>"
      ]
     },
     "execution_count": 365,
     "metadata": {},
     "output_type": "execute_result"
    },
    {
     "data": {
      "image/png": "[encoded data removed]",
      "text/plain": [
       "<Figure size 432x288 with 1 Axes>"
      ]
     },
     "metadata": {
      "needs_background": "light"
     },
     "output_type": "display_data"
    }
   ],
   "source": [
    "sns.distplot(data.g1, hist=False)"
   ]
  },
  {
   "cell_type": "code",
   "execution_count": 366,
   "id": "e62da1c1",
   "metadata": {},
   "outputs": [
    {
     "data": {
      "text/plain": [
       "<AxesSubplot:xlabel='g2', ylabel='Density'>"
      ]
     },
     "execution_count": 366,
     "metadata": {},
     "output_type": "execute_result"
    },
    {
     "data": {
      "image/png": "[encoded data removed]",
      "text/plain": [
       "<Figure size 432x288 with 1 Axes>"
      ]
     },
     "metadata": {
      "needs_background": "light"
     },
     "output_type": "display_data"
    }
   ],
   "source": [
    "sns.distplot(data.g2, hist=False)"
   ]
  },
  {
   "cell_type": "code",
   "execution_count": 367,
   "id": "90a1295d",
   "metadata": {},
   "outputs": [
    {
     "data": {
      "text/plain": [
       "<AxesSubplot:xlabel='g3', ylabel='Density'>"
      ]
     },
     "execution_count": 367,
     "metadata": {},
     "output_type": "execute_result"
    },
    {
     "data": {
      "image/png": "[encoded data removed]",
      "text/plain": [
       "<Figure size 432x288 with 1 Axes>"
      ]
     },
     "metadata": {
      "needs_background": "light"
     },
     "output_type": "display_data"
    }
   ],
   "source": [
    "sns.distplot(data.g3, hist=False)"
   ]
  },
  {
   "cell_type": "code",
   "execution_count": 368,
   "id": "d81cfcc3",
   "metadata": {},
   "outputs": [
    {
     "data": {
      "text/plain": [
       "<AxesSubplot:xlabel='g4', ylabel='Density'>"
      ]
     },
     "execution_count": 368,
     "metadata": {},
     "output_type": "execute_result"
    },
    {
     "data": {
      "image/png": "[encoded data removed]",
      "text/plain": [
       "<Figure size 432x288 with 1 Axes>"
      ]
     },
     "metadata": {
      "needs_background": "light"
     },
     "output_type": "display_data"
    }
   ],
   "source": [
    "sns.distplot(data.g4, hist=False)"
   ]
  },
  {
   "cell_type": "code",
   "execution_count": 369,
   "id": "6c3754f4",
   "metadata": {},
   "outputs": [
    {
     "data": {
      "image/png": "[encoded data removed]",
      "text/plain": [
       "<Figure size 432x288 with 16 Axes>"
      ]
     },
     "metadata": {
      "needs_background": "light"
     },
     "output_type": "display_data"
    }
   ],
   "source": [
    "data.hist(rwidth=0.9)\n",
    "plt.tight_layout()\n",
    "plt.show()"
   ]
  },
  {
   "cell_type": "markdown",
   "id": "a19604a8",
   "metadata": {},
   "source": [
    "# Checking For Skewness"
   ]
  },
  {
   "cell_type": "code",
   "execution_count": 370,
   "id": "1c729464",
   "metadata": {},
   "outputs": [
    {
     "data": {
      "text/plain": [
       "-5.410967977291829e-06"
      ]
     },
     "execution_count": 370,
     "metadata": {},
     "output_type": "execute_result"
    }
   ],
   "source": [
    "data.tau1.skew()"
   ]
  },
  {
   "cell_type": "code",
   "execution_count": 371,
   "id": "5d16a959",
   "metadata": {},
   "outputs": [
    {
     "data": {
      "text/plain": [
       "-1.1560977256334813e-06"
      ]
     },
     "execution_count": 371,
     "metadata": {},
     "output_type": "execute_result"
    }
   ],
   "source": [
    "data.tau2.skew()"
   ]
  },
  {
   "cell_type": "code",
   "execution_count": 372,
   "id": "dd3fcfae",
   "metadata": {},
   "outputs": [
    {
     "data": {
      "text/plain": [
       "-1.1560977256348132e-06"
      ]
     },
     "execution_count": 372,
     "metadata": {},
     "output_type": "execute_result"
    }
   ],
   "source": [
    "data.tau3.skew()"
   ]
  },
  {
   "cell_type": "code",
   "execution_count": 373,
   "id": "63cd9c59",
   "metadata": {},
   "outputs": [
    {
     "data": {
      "text/plain": [
       "-1.1560977236912254e-06"
      ]
     },
     "execution_count": 373,
     "metadata": {},
     "output_type": "execute_result"
    }
   ],
   "source": [
    "data.tau4.skew()"
   ]
  },
  {
   "cell_type": "code",
   "execution_count": 374,
   "id": "558c9227",
   "metadata": {},
   "outputs": [
    {
     "data": {
      "text/plain": [
       "-0.012688423269881647"
      ]
     },
     "execution_count": 374,
     "metadata": {},
     "output_type": "execute_result"
    }
   ],
   "source": [
    "data.p1.skew()"
   ]
  },
  {
   "cell_type": "code",
   "execution_count": 375,
   "id": "d51f19a5",
   "metadata": {},
   "outputs": [
    {
     "data": {
      "text/plain": [
       "3.1732550575027616e-06"
      ]
     },
     "execution_count": 375,
     "metadata": {},
     "output_type": "execute_result"
    }
   ],
   "source": [
    "data.p2.skew()"
   ]
  },
  {
   "cell_type": "code",
   "execution_count": 376,
   "id": "b9327cfc",
   "metadata": {},
   "outputs": [
    {
     "data": {
      "text/plain": [
       "3.173255059041437e-06"
      ]
     },
     "execution_count": 376,
     "metadata": {},
     "output_type": "execute_result"
    }
   ],
   "source": [
    "data.p3.skew()"
   ]
  },
  {
   "cell_type": "code",
   "execution_count": 377,
   "id": "d95429f9",
   "metadata": {},
   "outputs": [
    {
     "data": {
      "text/plain": [
       "3.1732550574977476e-06"
      ]
     },
     "execution_count": 377,
     "metadata": {},
     "output_type": "execute_result"
    }
   ],
   "source": [
    "data.p4.skew()"
   ]
  },
  {
   "cell_type": "code",
   "execution_count": 378,
   "id": "d47ec7cc",
   "metadata": {},
   "outputs": [
    {
     "data": {
      "text/plain": [
       "2.9560882016307425e-06"
      ]
     },
     "execution_count": 378,
     "metadata": {},
     "output_type": "execute_result"
    }
   ],
   "source": [
    "data.g1.skew()"
   ]
  },
  {
   "cell_type": "code",
   "execution_count": 379,
   "id": "09fe3a98",
   "metadata": {},
   "outputs": [
    {
     "data": {
      "text/plain": [
       "2.1535977770757543e-06"
      ]
     },
     "execution_count": 379,
     "metadata": {},
     "output_type": "execute_result"
    }
   ],
   "source": [
    "data.g2.skew()"
   ]
  },
  {
   "cell_type": "code",
   "execution_count": 380,
   "id": "538165cc",
   "metadata": {},
   "outputs": [
    {
     "data": {
      "text/plain": [
       "2.153597778290157e-06"
      ]
     },
     "execution_count": 380,
     "metadata": {},
     "output_type": "execute_result"
    }
   ],
   "source": [
    "data.g3.skew()"
   ]
  },
  {
   "cell_type": "code",
   "execution_count": 381,
   "id": "4c8d3f5f",
   "metadata": {},
   "outputs": [
    {
     "data": {
      "text/plain": [
       "2.153597779501688e-06"
      ]
     },
     "execution_count": 381,
     "metadata": {},
     "output_type": "execute_result"
    }
   ],
   "source": [
    "data.g4.skew()"
   ]
  },
  {
   "cell_type": "markdown",
   "id": "a58b2996",
   "metadata": {},
   "source": [
    "The value for each attribute is extremely low, almost tends to zero. Also visually inspecting the distribution curve, we can see that there are almost no outliers present. Thus we can directly jump into splitting the data into training and testing.\n",
    "\n",
    "In the given dataset we have two predict cols, namely \"stab\" and \"stabf\". \n",
    "\n",
    "1. stab - It will be used for regression problem\n",
    "2. stabf - It will be used for classification problem"
   ]
  },
  {
   "cell_type": "markdown",
   "id": "1ed1bbcc",
   "metadata": {},
   "source": [
    "# Splitting the data into X and Y"
   ]
  },
  {
   "cell_type": "code",
   "execution_count": 382,
   "id": "5563fbf1",
   "metadata": {},
   "outputs": [],
   "source": [
    "real_x = data.iloc[:,0:12].values"
   ]
  },
  {
   "cell_type": "code",
   "execution_count": 383,
   "id": "5c572b64",
   "metadata": {},
   "outputs": [],
   "source": [
    "real_y_reg = data.iloc[:,12].values"
   ]
  },
  {
   "cell_type": "code",
   "execution_count": 384,
   "id": "caf34cb2",
   "metadata": {},
   "outputs": [],
   "source": [
    "real_y_class = data.iloc[:,-1].values"
   ]
  },
  {
   "cell_type": "code",
   "execution_count": 385,
   "id": "601c7e42",
   "metadata": {},
   "outputs": [],
   "source": [
    "scaler=StandardScaler()\n",
    "real_x=scaler.fit_transform(real_x)"
   ]
  },
  {
   "cell_type": "markdown",
   "id": "f1a78907",
   "metadata": {},
   "source": [
    "# REGRESSION"
   ]
  },
  {
   "cell_type": "markdown",
   "id": "aad74c6b",
   "metadata": {},
   "source": [
    "LINEAR REGRESSION"
   ]
  },
  {
   "cell_type": "code",
   "execution_count": 386,
   "id": "ce83f8fa",
   "metadata": {},
   "outputs": [],
   "source": [
    "x_train, x_test, y_train, y_test = train_test_split(real_x, real_y_reg, test_size=0.25, random_state=0, stratify=real_y_reg)"
   ]
  },
  {
   "cell_type": "code",
   "execution_count": 387,
   "id": "9bda1956",
   "metadata": {},
   "outputs": [],
   "source": [
    "from sklearn.linear_model import LinearRegression"
   ]
  },
  {
   "cell_type": "code",
   "execution_count": 388,
   "id": "5bbf9da9",
   "metadata": {},
   "outputs": [],
   "source": [
    "linear = LinearRegression()"
   ]
  },
  {
   "cell_type": "code",
   "execution_count": 389,
   "id": "b5a6a9ff",
   "metadata": {},
   "outputs": [
    {
     "data": {
      "text/plain": [
       "LinearRegression()"
      ]
     },
     "execution_count": 389,
     "metadata": {},
     "output_type": "execute_result"
    }
   ],
   "source": [
    "linear.fit(x_train, y_train)"
   ]
  },
  {
   "cell_type": "code",
   "execution_count": 390,
   "id": "5fdec1b2",
   "metadata": {},
   "outputs": [],
   "source": [
    "y_pred_linear = linear.predict(x_test)"
   ]
  },
  {
   "cell_type": "code",
   "execution_count": 391,
   "id": "0e4e7b0b",
   "metadata": {},
   "outputs": [
    {
     "data": {
      "text/plain": [
       "0.6476719958949567"
      ]
     },
     "execution_count": 391,
     "metadata": {},
     "output_type": "execute_result"
    }
   ],
   "source": [
    "r2_linear = r2_score(y_test, y_pred_linear)\n",
    "r2_linear"
   ]
  },
  {
   "cell_type": "markdown",
   "id": "1e149338",
   "metadata": {},
   "source": [
    "XGBoost Regressor"
   ]
  },
  {
   "cell_type": "code",
   "execution_count": 392,
   "id": "1bd48793",
   "metadata": {},
   "outputs": [],
   "source": [
    "from xgboost import XGBRegressor"
   ]
  },
  {
   "cell_type": "code",
   "execution_count": 393,
   "id": "1d55c4c7",
   "metadata": {},
   "outputs": [],
   "source": [
    "reg = XGBRegressor()"
   ]
  },
  {
   "cell_type": "code",
   "execution_count": 394,
   "id": "99c7f9ee",
   "metadata": {},
   "outputs": [
    {
     "data": {
      "text/plain": [
       "XGBRegressor(base_score=0.5, booster='gbtree', colsample_bylevel=1,\n",
       "             colsample_bynode=1, colsample_bytree=1, enable_categorical=False,\n",
       "             gamma=0, gpu_id=-1, importance_type=None,\n",
       "             interaction_constraints='', learning_rate=0.300000012,\n",
       "             max_delta_step=0, max_depth=6, min_child_weight=1, missing=nan,\n",
       "             monotone_constraints='()', n_estimators=100, n_jobs=8,\n",
       "             num_parallel_tree=1, predictor='auto', random_state=0, reg_alpha=0,\n",
       "             reg_lambda=1, scale_pos_weight=1, subsample=1, tree_method='exact',\n",
       "             validate_parameters=1, verbosity=None)"
      ]
     },
     "execution_count": 394,
     "metadata": {},
     "output_type": "execute_result"
    }
   ],
   "source": [
    "reg.fit(x_train, y_train)"
   ]
  },
  {
   "cell_type": "code",
   "execution_count": 395,
   "id": "08f68814",
   "metadata": {},
   "outputs": [
    {
     "data": {
      "text/plain": [
       "0.9609239821156487"
      ]
     },
     "execution_count": 395,
     "metadata": {},
     "output_type": "execute_result"
    }
   ],
   "source": [
    "reg.score(x_test, y_test)"
   ]
  },
  {
   "cell_type": "markdown",
   "id": "1f2c1090",
   "metadata": {},
   "source": [
    "Decision Tree Regression"
   ]
  },
  {
   "cell_type": "code",
   "execution_count": 396,
   "id": "55b9a13d",
   "metadata": {},
   "outputs": [],
   "source": [
    "from sklearn.tree import DecisionTreeRegressor"
   ]
  },
  {
   "cell_type": "code",
   "execution_count": 397,
   "id": "4df792a9",
   "metadata": {},
   "outputs": [],
   "source": [
    "dtr = DecisionTreeRegressor()"
   ]
  },
  {
   "cell_type": "code",
   "execution_count": 398,
   "id": "68846a6d",
   "metadata": {},
   "outputs": [
    {
     "data": {
      "text/plain": [
       "DecisionTreeRegressor()"
      ]
     },
     "execution_count": 398,
     "metadata": {},
     "output_type": "execute_result"
    }
   ],
   "source": [
    "dtr.fit(x_train, y_train)"
   ]
  },
  {
   "cell_type": "code",
   "execution_count": 399,
   "id": "744fa8a5",
   "metadata": {},
   "outputs": [],
   "source": [
    "y_pred_dtr = dtr.predict(x_test)"
   ]
  },
  {
   "cell_type": "code",
   "execution_count": 400,
   "id": "af3b7920",
   "metadata": {},
   "outputs": [
    {
     "data": {
      "text/plain": [
       "0.836916408389136"
      ]
     },
     "execution_count": 400,
     "metadata": {},
     "output_type": "execute_result"
    }
   ],
   "source": [
    "dtr.score(x_test, y_test)"
   ]
  },
  {
   "cell_type": "markdown",
   "id": "443d777c",
   "metadata": {},
   "source": [
    "Random Forest Regression"
   ]
  },
  {
   "cell_type": "code",
   "execution_count": 401,
   "id": "5ec3abb9",
   "metadata": {},
   "outputs": [],
   "source": [
    "from sklearn.ensemble import RandomForestRegressor"
   ]
  },
  {
   "cell_type": "code",
   "execution_count": 402,
   "id": "1a94b6a3",
   "metadata": {},
   "outputs": [],
   "source": [
    "rfr = RandomForestRegressor(random_state=0)"
   ]
  },
  {
   "cell_type": "code",
   "execution_count": 403,
   "id": "a29ec329",
   "metadata": {},
   "outputs": [
    {
     "data": {
      "text/plain": [
       "RandomForestRegressor(random_state=0)"
      ]
     },
     "execution_count": 403,
     "metadata": {},
     "output_type": "execute_result"
    }
   ],
   "source": [
    "rfr.fit(x_train, y_train)"
   ]
  },
  {
   "cell_type": "code",
   "execution_count": 404,
   "id": "72beeca1",
   "metadata": {},
   "outputs": [],
   "source": [
    "y_pred_rfr = rfr.predict(x_test)"
   ]
  },
  {
   "cell_type": "code",
   "execution_count": 405,
   "id": "d157191f",
   "metadata": {},
   "outputs": [
    {
     "data": {
      "text/plain": [
       "0.9413151679669954"
      ]
     },
     "execution_count": 405,
     "metadata": {},
     "output_type": "execute_result"
    }
   ],
   "source": [
    "rfr.score(x_test, y_test)"
   ]
  },
  {
   "cell_type": "markdown",
   "id": "92037126",
   "metadata": {},
   "source": [
    "# Classification"
   ]
  },
  {
   "cell_type": "markdown",
   "id": "94ece0cf",
   "metadata": {},
   "source": [
    "KNN"
   ]
  },
  {
   "cell_type": "code",
   "execution_count": 406,
   "id": "ff6f8bb9",
   "metadata": {},
   "outputs": [],
   "source": [
    "x_train, x_test, y_train, y_test = train_test_split(real_x, real_y_class, test_size=0.25, random_state=0, stratify=real_y_class)"
   ]
  },
  {
   "cell_type": "code",
   "execution_count": 407,
   "id": "8340285f",
   "metadata": {},
   "outputs": [],
   "source": [
    "from sklearn.neighbors import KNeighborsClassifier"
   ]
  },
  {
   "cell_type": "code",
   "execution_count": 408,
   "id": "f4b288d0",
   "metadata": {},
   "outputs": [],
   "source": [
    "knn = KNeighborsClassifier()"
   ]
  },
  {
   "cell_type": "code",
   "execution_count": 409,
   "id": "26df9539",
   "metadata": {},
   "outputs": [
    {
     "data": {
      "text/plain": [
       "KNeighborsClassifier()"
      ]
     },
     "execution_count": 409,
     "metadata": {},
     "output_type": "execute_result"
    }
   ],
   "source": [
    "knn.fit(x_train, y_train)"
   ]
  },
  {
   "cell_type": "code",
   "execution_count": 410,
   "id": "996eeaa2",
   "metadata": {},
   "outputs": [],
   "source": [
    "y_pred_knn = knn.predict(x_test)"
   ]
  },
  {
   "cell_type": "code",
   "execution_count": 411,
   "id": "9052b867",
   "metadata": {},
   "outputs": [
    {
     "data": {
      "text/plain": [
       "0.8872666666666666"
      ]
     },
     "execution_count": 411,
     "metadata": {},
     "output_type": "execute_result"
    }
   ],
   "source": [
    "knn.score(x_test, y_test)"
   ]
  },
  {
   "cell_type": "code",
   "execution_count": 412,
   "id": "f188f934",
   "metadata": {},
   "outputs": [
    {
     "data": {
      "text/plain": [
       "array([[9007,  563],\n",
       "       [1128, 4302]])"
      ]
     },
     "execution_count": 412,
     "metadata": {},
     "output_type": "execute_result"
    }
   ],
   "source": [
    "cm_knn = confusion_matrix(y_test, y_pred_knn)\n",
    "cm_knn"
   ]
  },
  {
   "cell_type": "code",
   "execution_count": 413,
   "id": "c56cd3ab",
   "metadata": {},
   "outputs": [
    {
     "name": "stdout",
     "output_type": "stream",
     "text": [
      "              precision    recall  f1-score   support\n",
      "\n",
      "           0       0.89      0.94      0.91      9570\n",
      "           1       0.88      0.79      0.84      5430\n",
      "\n",
      "    accuracy                           0.89     15000\n",
      "   macro avg       0.89      0.87      0.87     15000\n",
      "weighted avg       0.89      0.89      0.89     15000\n",
      "\n"
     ]
    }
   ],
   "source": [
    "print(classification_report(y_test, y_pred_knn))"
   ]
  },
  {
   "cell_type": "markdown",
   "id": "14f84d16",
   "metadata": {},
   "source": [
    "Logistic Regression"
   ]
  },
  {
   "cell_type": "code",
   "execution_count": 414,
   "id": "18caea1d",
   "metadata": {},
   "outputs": [],
   "source": [
    "from sklearn.linear_model import LogisticRegression"
   ]
  },
  {
   "cell_type": "code",
   "execution_count": 415,
   "id": "b56fe01c",
   "metadata": {},
   "outputs": [],
   "source": [
    "log = LogisticRegression()"
   ]
  },
  {
   "cell_type": "code",
   "execution_count": 416,
   "id": "13c31ef5",
   "metadata": {},
   "outputs": [
    {
     "data": {
      "text/plain": [
       "LogisticRegression()"
      ]
     },
     "execution_count": 416,
     "metadata": {},
     "output_type": "execute_result"
    }
   ],
   "source": [
    "log.fit(x_train, y_train)"
   ]
  },
  {
   "cell_type": "code",
   "execution_count": 417,
   "id": "26f3d6b9",
   "metadata": {},
   "outputs": [],
   "source": [
    "y_pred_log = log.predict(x_test)"
   ]
  },
  {
   "cell_type": "code",
   "execution_count": 418,
   "id": "f38e261c",
   "metadata": {},
   "outputs": [
    {
     "data": {
      "text/plain": [
       "0.8137333333333333"
      ]
     },
     "execution_count": 418,
     "metadata": {},
     "output_type": "execute_result"
    }
   ],
   "source": [
    "log.score(x_test, y_test)"
   ]
  },
  {
   "cell_type": "code",
   "execution_count": 419,
   "id": "dff89b94",
   "metadata": {},
   "outputs": [
    {
     "data": {
      "text/plain": [
       "array([[8410, 1160],\n",
       "       [1634, 3796]])"
      ]
     },
     "execution_count": 419,
     "metadata": {},
     "output_type": "execute_result"
    }
   ],
   "source": [
    "cm_log = confusion_matrix(y_test, y_pred_log)\n",
    "cm_log"
   ]
  },
  {
   "cell_type": "code",
   "execution_count": 420,
   "id": "83ae17b6",
   "metadata": {},
   "outputs": [
    {
     "name": "stdout",
     "output_type": "stream",
     "text": [
      "              precision    recall  f1-score   support\n",
      "\n",
      "           0       0.84      0.88      0.86      9570\n",
      "           1       0.77      0.70      0.73      5430\n",
      "\n",
      "    accuracy                           0.81     15000\n",
      "   macro avg       0.80      0.79      0.79     15000\n",
      "weighted avg       0.81      0.81      0.81     15000\n",
      "\n"
     ]
    }
   ],
   "source": [
    "print(classification_report(y_test, y_pred_log))"
   ]
  },
  {
   "cell_type": "markdown",
   "id": "91269b0c",
   "metadata": {},
   "source": [
    "Support Vector Machine"
   ]
  },
  {
   "cell_type": "code",
   "execution_count": 421,
   "id": "f9c9b6cb",
   "metadata": {},
   "outputs": [],
   "source": [
    "from sklearn.svm import SVC"
   ]
  },
  {
   "cell_type": "code",
   "execution_count": 422,
   "id": "f5973db3",
   "metadata": {},
   "outputs": [],
   "source": [
    "svc = SVC(kernel='rbf', probability=True)"
   ]
  },
  {
   "cell_type": "code",
   "execution_count": 423,
   "id": "cc775ee8",
   "metadata": {},
   "outputs": [
    {
     "data": {
      "text/plain": [
       "SVC(probability=True)"
      ]
     },
     "execution_count": 423,
     "metadata": {},
     "output_type": "execute_result"
    }
   ],
   "source": [
    "svc.fit(x_train, y_train)"
   ]
  },
  {
   "cell_type": "code",
   "execution_count": 424,
   "id": "b73dee94",
   "metadata": {},
   "outputs": [],
   "source": [
    "y_pred_svc = svc.predict(x_test)"
   ]
  },
  {
   "cell_type": "code",
   "execution_count": 425,
   "id": "0b785beb",
   "metadata": {},
   "outputs": [
    {
     "data": {
      "text/plain": [
       "0.9766"
      ]
     },
     "execution_count": 425,
     "metadata": {},
     "output_type": "execute_result"
    }
   ],
   "source": [
    "svc.score(x_test, y_test)"
   ]
  },
  {
   "cell_type": "code",
   "execution_count": 426,
   "id": "0bf39b5e",
   "metadata": {},
   "outputs": [
    {
     "data": {
      "text/plain": [
       "array([[9426,  144],\n",
       "       [ 207, 5223]])"
      ]
     },
     "execution_count": 426,
     "metadata": {},
     "output_type": "execute_result"
    }
   ],
   "source": [
    "cm_log = confusion_matrix(y_test, y_pred_svc)\n",
    "cm_log"
   ]
  },
  {
   "cell_type": "code",
   "execution_count": 427,
   "id": "789ca8c1",
   "metadata": {},
   "outputs": [
    {
     "name": "stdout",
     "output_type": "stream",
     "text": [
      "              precision    recall  f1-score   support\n",
      "\n",
      "           0       0.98      0.98      0.98      9570\n",
      "           1       0.97      0.96      0.97      5430\n",
      "\n",
      "    accuracy                           0.98     15000\n",
      "   macro avg       0.98      0.97      0.97     15000\n",
      "weighted avg       0.98      0.98      0.98     15000\n",
      "\n"
     ]
    }
   ],
   "source": [
    "print(classification_report(y_test, y_pred_svc))"
   ]
  },
  {
   "cell_type": "markdown",
   "id": "bb7f823f",
   "metadata": {},
   "source": [
    "Decision Tree Classifier"
   ]
  },
  {
   "cell_type": "code",
   "execution_count": 428,
   "id": "7ebf5705",
   "metadata": {},
   "outputs": [],
   "source": [
    "from sklearn.tree import DecisionTreeClassifier"
   ]
  },
  {
   "cell_type": "code",
   "execution_count": 429,
   "id": "a4e065b5",
   "metadata": {},
   "outputs": [],
   "source": [
    "dtc = DecisionTreeClassifier()"
   ]
  },
  {
   "cell_type": "code",
   "execution_count": 430,
   "id": "be7d4709",
   "metadata": {},
   "outputs": [
    {
     "data": {
      "text/plain": [
       "DecisionTreeClassifier()"
      ]
     },
     "execution_count": 430,
     "metadata": {},
     "output_type": "execute_result"
    }
   ],
   "source": [
    "dtc.fit(x_train, y_train)"
   ]
  },
  {
   "cell_type": "code",
   "execution_count": 431,
   "id": "6ba17f6a",
   "metadata": {},
   "outputs": [],
   "source": [
    "y_pred_dtc = dtc.predict(x_test)"
   ]
  },
  {
   "cell_type": "code",
   "execution_count": 432,
   "id": "0abdedd0",
   "metadata": {},
   "outputs": [
    {
     "data": {
      "text/plain": [
       "0.8920666666666667"
      ]
     },
     "execution_count": 432,
     "metadata": {},
     "output_type": "execute_result"
    }
   ],
   "source": [
    "dtc.score(x_test, y_test)"
   ]
  },
  {
   "cell_type": "code",
   "execution_count": 433,
   "id": "4b73ef74",
   "metadata": {},
   "outputs": [
    {
     "data": {
      "text/plain": [
       "array([[8758,  812],\n",
       "       [ 807, 4623]])"
      ]
     },
     "execution_count": 433,
     "metadata": {},
     "output_type": "execute_result"
    }
   ],
   "source": [
    "cm_log = confusion_matrix(y_test, y_pred_dtc)\n",
    "cm_log"
   ]
  },
  {
   "cell_type": "code",
   "execution_count": 434,
   "id": "e25c112a",
   "metadata": {},
   "outputs": [
    {
     "name": "stdout",
     "output_type": "stream",
     "text": [
      "              precision    recall  f1-score   support\n",
      "\n",
      "           0       0.92      0.92      0.92      9570\n",
      "           1       0.85      0.85      0.85      5430\n",
      "\n",
      "    accuracy                           0.89     15000\n",
      "   macro avg       0.88      0.88      0.88     15000\n",
      "weighted avg       0.89      0.89      0.89     15000\n",
      "\n"
     ]
    }
   ],
   "source": [
    "print(classification_report(y_test, y_pred_dtc))"
   ]
  },
  {
   "cell_type": "markdown",
   "id": "314a839e",
   "metadata": {},
   "source": [
    "Random Forest Classifier"
   ]
  },
  {
   "cell_type": "code",
   "execution_count": 435,
   "id": "142d26ac",
   "metadata": {},
   "outputs": [],
   "source": [
    "from sklearn.ensemble import RandomForestClassifier"
   ]
  },
  {
   "cell_type": "code",
   "execution_count": 436,
   "id": "9c30f5aa",
   "metadata": {},
   "outputs": [],
   "source": [
    "rfc = RandomForestClassifier(random_state = 0)"
   ]
  },
  {
   "cell_type": "code",
   "execution_count": 437,
   "id": "22c571fd",
   "metadata": {},
   "outputs": [
    {
     "data": {
      "text/plain": [
       "RandomForestClassifier(random_state=0)"
      ]
     },
     "execution_count": 437,
     "metadata": {},
     "output_type": "execute_result"
    }
   ],
   "source": [
    "rfc.fit(x_train, y_train)"
   ]
  },
  {
   "cell_type": "code",
   "execution_count": 438,
   "id": "fa81bc1f",
   "metadata": {},
   "outputs": [],
   "source": [
    "y_pred_rfc = rfc.predict(x_test)"
   ]
  },
  {
   "cell_type": "code",
   "execution_count": 439,
   "id": "f8a04d43",
   "metadata": {},
   "outputs": [
    {
     "data": {
      "text/plain": [
       "0.9474666666666667"
      ]
     },
     "execution_count": 439,
     "metadata": {},
     "output_type": "execute_result"
    }
   ],
   "source": [
    "rfc.score(x_test, y_test)"
   ]
  },
  {
   "cell_type": "code",
   "execution_count": 440,
   "id": "ed2e832e",
   "metadata": {},
   "outputs": [
    {
     "data": {
      "text/plain": [
       "array([[9292,  278],\n",
       "       [ 510, 4920]])"
      ]
     },
     "execution_count": 440,
     "metadata": {},
     "output_type": "execute_result"
    }
   ],
   "source": [
    "cm_log = confusion_matrix(y_test, y_pred_rfc)\n",
    "cm_log"
   ]
  },
  {
   "cell_type": "code",
   "execution_count": 441,
   "id": "a5fc4c57",
   "metadata": {
    "scrolled": true
   },
   "outputs": [
    {
     "name": "stdout",
     "output_type": "stream",
     "text": [
      "              precision    recall  f1-score   support\n",
      "\n",
      "           0       0.95      0.97      0.96      9570\n",
      "           1       0.95      0.91      0.93      5430\n",
      "\n",
      "    accuracy                           0.95     15000\n",
      "   macro avg       0.95      0.94      0.94     15000\n",
      "weighted avg       0.95      0.95      0.95     15000\n",
      "\n"
     ]
    }
   ],
   "source": [
    "print(classification_report(y_test, y_pred_rfc))"
   ]
  },
  {
   "cell_type": "markdown",
   "id": "8f8a5077",
   "metadata": {},
   "source": [
    "XGBoost Classifier"
   ]
  },
  {
   "cell_type": "code",
   "execution_count": 442,
   "id": "64022c6e",
   "metadata": {},
   "outputs": [],
   "source": [
    "from xgboost import XGBClassifier "
   ]
  },
  {
   "cell_type": "code",
   "execution_count": 443,
   "id": "473a79eb",
   "metadata": {},
   "outputs": [],
   "source": [
    "xgbc = XGBClassifier()"
   ]
  },
  {
   "cell_type": "code",
   "execution_count": 444,
   "id": "7d64de1a",
   "metadata": {},
   "outputs": [
    {
     "name": "stdout",
     "output_type": "stream",
     "text": [
      "[09:00:39] WARNING: /Users/runner/miniforge3/conda-bld/xgboost-split_1643226991592/work/src/learner.cc:1115: Starting in XGBoost 1.3.0, the default evaluation metric used with the objective 'binary:logistic' was changed from 'error' to 'logloss'. Explicitly set eval_metric if you'd like to restore the old behavior.\n"
     ]
    },
    {
     "data": {
      "text/plain": [
       "XGBClassifier(base_score=0.5, booster='gbtree', colsample_bylevel=1,\n",
       "              colsample_bynode=1, colsample_bytree=1, enable_categorical=False,\n",
       "              gamma=0, gpu_id=-1, importance_type=None,\n",
       "              interaction_constraints='', learning_rate=0.300000012,\n",
       "              max_delta_step=0, max_depth=6, min_child_weight=1, missing=nan,\n",
       "              monotone_constraints='()', n_estimators=100, n_jobs=8,\n",
       "              num_parallel_tree=1, predictor='auto', random_state=0,\n",
       "              reg_alpha=0, reg_lambda=1, scale_pos_weight=1, subsample=1,\n",
       "              tree_method='exact', validate_parameters=1, verbosity=None)"
      ]
     },
     "execution_count": 444,
     "metadata": {},
     "output_type": "execute_result"
    }
   ],
   "source": [
    "xgbc.fit(x_train, y_train)"
   ]
  },
  {
   "cell_type": "code",
   "execution_count": 445,
   "id": "5d486325",
   "metadata": {},
   "outputs": [],
   "source": [
    "y_pred_xgbc = xgbc.predict(x_test)"
   ]
  },
  {
   "cell_type": "code",
   "execution_count": 446,
   "id": "9a953e03",
   "metadata": {},
   "outputs": [
    {
     "data": {
      "text/plain": [
       "0.9789333333333333"
      ]
     },
     "execution_count": 446,
     "metadata": {},
     "output_type": "execute_result"
    }
   ],
   "source": [
    "xgbc.score(x_test, y_test)"
   ]
  },
  {
   "cell_type": "code",
   "execution_count": 447,
   "id": "7bc3deb1",
   "metadata": {},
   "outputs": [
    {
     "data": {
      "text/plain": [
       "array([[9452,  118],\n",
       "       [ 198, 5232]])"
      ]
     },
     "execution_count": 447,
     "metadata": {},
     "output_type": "execute_result"
    }
   ],
   "source": [
    "cm_log = confusion_matrix(y_test, y_pred_xgbc)\n",
    "cm_log"
   ]
  },
  {
   "cell_type": "markdown",
   "id": "0ffed9b0",
   "metadata": {},
   "source": [
    "# AUC-ROC Curve Classification"
   ]
  },
  {
   "cell_type": "markdown",
   "id": "9f1865b1",
   "metadata": {},
   "source": [
    "SVC"
   ]
  },
  {
   "cell_type": "code",
   "execution_count": 462,
   "id": "6cb817f2",
   "metadata": {},
   "outputs": [
    {
     "data": {
      "image/png": "[encoded data removed]",
      "text/plain": [
       "<Figure size 450x300 with 1 Axes>"
      ]
     },
     "metadata": {
      "needs_background": "light"
     },
     "output_type": "display_data"
    }
   ],
   "source": [
    "probas = svc.predict_proba(x_test)\n",
    "from sklearn.metrics import roc_curve, auc\n",
    "fpr, tpr, thresholds = roc_curve(y_test, probas[:,0], pos_label=0)\n",
    "roc_curve = auc(fpr, tpr)\n",
    "\n",
    "plt.figure(dpi=75)\n",
    "plt.plot(fpr, tpr, lw=1, color='b', label=f'AUC={roc_curve:.3f}')\n",
    "plt.title('ROC Curve for Support Vector classifier')\n",
    "plt.xlabel('False Positive Rate')\n",
    "plt.ylabel('True Positive Rate')\n",
    "plt.xlim([-0.05,1.05])\n",
    "plt.ylim([-0.05,1.05])\n",
    "plt.legend()\n",
    "plt.show()"
   ]
  },
  {
   "cell_type": "markdown",
   "id": "219ac72d",
   "metadata": {},
   "source": [
    "KNN"
   ]
  },
  {
   "cell_type": "code",
   "execution_count": 463,
   "id": "2388d0e2",
   "metadata": {},
   "outputs": [
    {
     "data": {
      "image/png": "[encoded data removed]",
      "text/plain": [
       "<Figure size 450x300 with 1 Axes>"
      ]
     },
     "metadata": {
      "needs_background": "light"
     },
     "output_type": "display_data"
    }
   ],
   "source": [
    "probas = knn.predict_proba(x_test)\n",
    "from sklearn.metrics import roc_curve, auc\n",
    "fpr, tpr, thresholds = roc_curve(y_test, probas[:,0], pos_label=0)\n",
    "roc_curve = auc(fpr, tpr)\n",
    "\n",
    "plt.figure(dpi=75)\n",
    "plt.plot(fpr, tpr, lw=1, color='g', label=f'AUC={roc_curve:.3f}')\n",
    "plt.title('ROC Curve for KNN')\n",
    "plt.xlabel('False Positive Rate')\n",
    "plt.ylabel('True Positive Rate')\n",
    "plt.xlim([-0.05,1.05])\n",
    "plt.ylim([-0.05,1.05])\n",
    "plt.legend()\n",
    "plt.show()"
   ]
  },
  {
   "cell_type": "markdown",
   "id": "dc9bc349",
   "metadata": {},
   "source": [
    "Logistic Regression"
   ]
  },
  {
   "cell_type": "code",
   "execution_count": 464,
   "id": "31010e85",
   "metadata": {
    "scrolled": true
   },
   "outputs": [
    {
     "data": {
      "image/png": "[encoded data removed]",
      "text/plain": [
       "<Figure size 450x300 with 1 Axes>"
      ]
     },
     "metadata": {
      "needs_background": "light"
     },
     "output_type": "display_data"
    }
   ],
   "source": [
    "probas = log.predict_proba(x_test)\n",
    "from sklearn.metrics import roc_curve, auc\n",
    "fpr, tpr, thresholds = roc_curve(y_test, probas[:,0], pos_label=0)\n",
    "roc_curve = auc(fpr, tpr)\n",
    "\n",
    "plt.figure(dpi=75)\n",
    "plt.plot(fpr, tpr, lw=1, color='r', label=f'AUC={roc_curve:.3f}')\n",
    "plt.title('ROC Curve for Logistic Regression')\n",
    "plt.xlabel('False Positive Rate')\n",
    "plt.ylabel('True Positive Rate')\n",
    "plt.xlim([-0.05,1.05])\n",
    "plt.ylim([-0.05,1.05])\n",
    "plt.legend()\n",
    "plt.show()"
   ]
  },
  {
   "cell_type": "markdown",
   "id": "304adf3d",
   "metadata": {},
   "source": [
    "Decision Tree Classifier"
   ]
  },
  {
   "cell_type": "code",
   "execution_count": 465,
   "id": "2846edd0",
   "metadata": {
    "scrolled": true
   },
   "outputs": [
    {
     "data": {
      "image/png": "[encoded data removed]",
      "text/plain": [
       "<Figure size 450x300 with 1 Axes>"
      ]
     },
     "metadata": {
      "needs_background": "light"
     },
     "output_type": "display_data"
    }
   ],
   "source": [
    "probas = dtc.predict_proba(x_test)\n",
    "from sklearn.metrics import roc_curve, auc\n",
    "fpr, tpr, thresholds = roc_curve(y_test, probas[:,0], pos_label=0)\n",
    "roc_curve = auc(fpr, tpr)\n",
    "\n",
    "plt.figure(dpi=75)\n",
    "plt.plot(fpr, tpr, lw=1, color='c', label=f'AUC={roc_curve:.3f}')\n",
    "plt.title('ROC Curve for Decision Tree classifier')\n",
    "plt.xlabel('False Positive Rate')\n",
    "plt.ylabel('True Positive Rate')\n",
    "plt.xlim([-0.05,1.05])\n",
    "plt.ylim([-0.05,1.05])\n",
    "plt.legend()\n",
    "plt.show()"
   ]
  },
  {
   "cell_type": "markdown",
   "id": "e0eee8d4",
   "metadata": {},
   "source": [
    "Random Forest Classifier"
   ]
  },
  {
   "cell_type": "code",
   "execution_count": 466,
   "id": "641e441b",
   "metadata": {
    "scrolled": true
   },
   "outputs": [
    {
     "data": {
      "image/png": "[encoded data removed]",
      "text/plain": [
       "<Figure size 450x300 with 1 Axes>"
      ]
     },
     "metadata": {
      "needs_background": "light"
     },
     "output_type": "display_data"
    }
   ],
   "source": [
    "probas = rfc.predict_proba(x_test)\n",
    "from sklearn.metrics import roc_curve, auc\n",
    "fpr, tpr, thresholds = roc_curve(y_test, probas[:,0], pos_label=0)\n",
    "roc_curve = auc(fpr, tpr)\n",
    "\n",
    "plt.figure(dpi=75)\n",
    "plt.plot(fpr, tpr, lw=1, color='m', label=f'AUC={roc_curve:.3f}')\n",
    "plt.title('ROC Curve for Random Forest classifier')\n",
    "plt.xlabel('False Positive Rate')\n",
    "plt.ylabel('True Positive Rate')\n",
    "plt.xlim([-0.05,1.05])\n",
    "plt.ylim([-0.05,1.05])\n",
    "plt.legend()\n",
    "plt.show()"
   ]
  },
  {
   "cell_type": "markdown",
   "id": "d49e8f77",
   "metadata": {},
   "source": [
    "XGBoost Classifier"
   ]
  },
  {
   "cell_type": "code",
   "execution_count": 467,
   "id": "25da2ea5",
   "metadata": {
    "scrolled": true
   },
   "outputs": [
    {
     "data": {
      "image/png": "[encoded data removed]",
      "text/plain": [
       "<Figure size 450x300 with 1 Axes>"
      ]
     },
     "metadata": {
      "needs_background": "light"
     },
     "output_type": "display_data"
    }
   ],
   "source": [
    "probas = xgbc.predict_proba(x_test)\n",
    "from sklearn.metrics import roc_curve, auc\n",
    "fpr, tpr, thresholds = roc_curve(y_test, probas[:,0], pos_label=0)\n",
    "roc_curve = auc(fpr, tpr)\n",
    "\n",
    "plt.figure(dpi=75)\n",
    "plt.plot(fpr, tpr, lw=1, color='y', label=f'AUC={roc_curve:.3f}')\n",
    "plt.title('ROC Curve for XGBoost classifier')\n",
    "plt.xlabel('False Positive Rate')\n",
    "plt.ylabel('True Positive Rate')\n",
    "plt.xlim([-0.05,1.05])\n",
    "plt.ylim([-0.05,1.05])\n",
    "plt.legend()\n",
    "plt.show()"
   ]
  },
  {
   "cell_type": "markdown",
   "id": "ff44f2f3",
   "metadata": {},
   "source": [
    "# AUC-PR for Classification"
   ]
  },
  {
   "cell_type": "code",
   "execution_count": 454,
   "id": "91b50f20",
   "metadata": {},
   "outputs": [],
   "source": [
    "from sklearn.metrics import precision_recall_curve, average_precision_score,auc"
   ]
  },
  {
   "cell_type": "markdown",
   "id": "62480a3e",
   "metadata": {},
   "source": [
    "SVC"
   ]
  },
  {
   "cell_type": "code",
   "execution_count": 455,
   "id": "75bdc158",
   "metadata": {},
   "outputs": [
    {
     "data": {
      "image/png": "[encoded data removed]",
      "text/plain": [
       "<Figure size 450x300 with 1 Axes>"
      ]
     },
     "metadata": {
      "needs_background": "light"
     },
     "output_type": "display_data"
    }
   ],
   "source": [
    "probas = svc.predict_proba(x_test)\n",
    "precision,recall,thresholds=precision_recall_curve(y_test,probas[:,0],pos_label=0)\n",
    "avg_precision=average_precision_score(y_test,probas[:,1])\n",
    "pr_auc=auc(recall,precision)\n",
    "plt.figure(dpi=75)\n",
    "plt.plot(recall,precision,lw=1,color='b',label=f'AP={avg_precision:.3f};AUC={pr_auc:.3f}')\n",
    "plt.fill_between(recall,precision,-1,facecolor='b',alpha=0.5)\n",
    "plt.title('PR Curve for SVC')\n",
    "plt.xlabel('Recall(TPR)')\n",
    "plt.ylabel('Precision')\n",
    "plt.xlim([-0.05,1.05])\n",
    "plt.ylim([-0.05,1.05])\n",
    "plt.legend()\n",
    "plt.show()"
   ]
  },
  {
   "cell_type": "markdown",
   "id": "5f9c430d",
   "metadata": {},
   "source": [
    "KNN"
   ]
  },
  {
   "cell_type": "code",
   "execution_count": 456,
   "id": "6ff2af82",
   "metadata": {},
   "outputs": [
    {
     "data": {
      "image/png": "[encoded data removed]",
      "text/plain": [
       "<Figure size 450x300 with 1 Axes>"
      ]
     },
     "metadata": {
      "needs_background": "light"
     },
     "output_type": "display_data"
    }
   ],
   "source": [
    "probas = knn.predict_proba(x_test)\n",
    "precision,recall,thresholds=precision_recall_curve(y_test,probas[:,0],pos_label=0)\n",
    "avg_precision=average_precision_score(y_test,probas[:,1])\n",
    "pr_auc=auc(recall,precision)\n",
    "plt.figure(dpi=75)\n",
    "plt.plot(recall,precision,lw=1,color='y',label=f'AP={avg_precision:.3f};AUC={pr_auc:.3f}')\n",
    "plt.fill_between(recall,precision,-1,facecolor='y',alpha=0.5)\n",
    "plt.title('PR Curve for KNN')\n",
    "plt.xlabel('Recall(TPR)')\n",
    "plt.ylabel('Precision')\n",
    "plt.xlim([-0.05,1.05])\n",
    "plt.ylim([-0.05,1.05])\n",
    "plt.legend()\n",
    "plt.show()"
   ]
  },
  {
   "cell_type": "markdown",
   "id": "72678d30",
   "metadata": {},
   "source": [
    "Logistic Regression"
   ]
  },
  {
   "cell_type": "code",
   "execution_count": 457,
   "id": "2bed6aee",
   "metadata": {},
   "outputs": [
    {
     "data": {
      "image/png": "[encoded data removed]",
      "text/plain": [
       "<Figure size 450x300 with 1 Axes>"
      ]
     },
     "metadata": {
      "needs_background": "light"
     },
     "output_type": "display_data"
    }
   ],
   "source": [
    "probas = log.predict_proba(x_test)\n",
    "precision,recall,thresholds=precision_recall_curve(y_test,probas[:,0],pos_label=0)\n",
    "avg_precision=average_precision_score(y_test,probas[:,1])\n",
    "pr_auc=auc(recall,precision)\n",
    "plt.figure(dpi=75)\n",
    "plt.plot(recall,precision,lw=1,color='r',label=f'AP={avg_precision:.3f};AUC={pr_auc:.3f}')\n",
    "plt.fill_between(recall,precision,-1,facecolor='r',alpha=0.5)\n",
    "plt.title('PR Curve for Logistic Regressor')\n",
    "plt.xlabel('Recall(TPR)')\n",
    "plt.ylabel('Precision')\n",
    "plt.xlim([-0.05,1.05])\n",
    "plt.ylim([-0.05,1.05])\n",
    "plt.legend()\n",
    "plt.show()"
   ]
  },
  {
   "cell_type": "markdown",
   "id": "aa1dc237",
   "metadata": {},
   "source": [
    "Decision Tree Classifier"
   ]
  },
  {
   "cell_type": "code",
   "execution_count": 458,
   "id": "35e3d57d",
   "metadata": {},
   "outputs": [
    {
     "data": {
      "image/png": "[encoded data removed]",
      "text/plain": [
       "<Figure size 450x300 with 1 Axes>"
      ]
     },
     "metadata": {
      "needs_background": "light"
     },
     "output_type": "display_data"
    }
   ],
   "source": [
    "probas = dtc.predict_proba(x_test)\n",
    "precision,recall,thresholds=precision_recall_curve(y_test,probas[:,0],pos_label=0)\n",
    "avg_precision=average_precision_score(y_test,probas[:,1])\n",
    "pr_auc=auc(recall,precision)\n",
    "plt.figure(dpi=75)\n",
    "plt.plot(recall,precision,lw=1,color='c',label=f'AP={avg_precision:.3f};AUC={pr_auc:.3f}')\n",
    "plt.fill_between(recall,precision,-1,facecolor='c',alpha=0.5)\n",
    "plt.title('PR Curve for DecisionTree Classifier')\n",
    "plt.xlabel('Recall(TPR)')\n",
    "plt.ylabel('Precision')\n",
    "plt.xlim([-0.05,1.05])\n",
    "plt.ylim([-0.05,1.05])\n",
    "plt.legend()\n",
    "plt.show()"
   ]
  },
  {
   "cell_type": "markdown",
   "id": "bb6cf1b8",
   "metadata": {},
   "source": [
    "Random Forest Classifier"
   ]
  },
  {
   "cell_type": "code",
   "execution_count": 459,
   "id": "dc96a4ff",
   "metadata": {},
   "outputs": [
    {
     "data": {
      "image/png": "[encoded data removed]",
      "text/plain": [
       "<Figure size 450x300 with 1 Axes>"
      ]
     },
     "metadata": {
      "needs_background": "light"
     },
     "output_type": "display_data"
    }
   ],
   "source": [
    "probas = rfc.predict_proba(x_test)\n",
    "precision,recall,thresholds=precision_recall_curve(y_test,probas[:,0],pos_label=0)\n",
    "avg_precision=average_precision_score(y_test,probas[:,1])\n",
    "pr_auc=auc(recall,precision)\n",
    "plt.figure(dpi=75)\n",
    "plt.plot(recall,precision,lw=1,color='m',label=f'AP={avg_precision:.3f};AUC={pr_auc:.3f}')\n",
    "plt.fill_between(recall,precision,-1,facecolor='m',alpha=0.5)\n",
    "plt.title('PR Curve for RandomForest Classifier')\n",
    "plt.xlabel('Recall(TPR)')\n",
    "plt.ylabel('Precision')\n",
    "plt.xlim([-0.05,1.05])\n",
    "plt.ylim([-0.05,1.05])\n",
    "plt.legend()\n",
    "plt.show()"
   ]
  },
  {
   "cell_type": "markdown",
   "id": "196660bc",
   "metadata": {},
   "source": [
    "XGBoost Classifier"
   ]
  },
  {
   "cell_type": "code",
   "execution_count": 460,
   "id": "197e8da2",
   "metadata": {
    "scrolled": true
   },
   "outputs": [
    {
     "data": {
      "image/png": "[encoded data removed]",
      "text/plain": [
       "<Figure size 450x300 with 1 Axes>"
      ]
     },
     "metadata": {
      "needs_background": "light"
     },
     "output_type": "display_data"
    }
   ],
   "source": [
    "probas = xgbc.predict_proba(x_test)\n",
    "precision,recall,thresholds=precision_recall_curve(y_test,probas[:,0],pos_label=0)\n",
    "avg_precision=average_precision_score(y_test,probas[:,1])\n",
    "pr_auc=auc(recall,precision)\n",
    "plt.figure(dpi=75)\n",
    "plt.plot(recall,precision,lw=1,color='g',label=f'AP={avg_precision:.3f};AUC={pr_auc:.3f}')\n",
    "plt.fill_between(recall,precision,-1,facecolor='g',alpha=0.5)\n",
    "plt.title('PR Curve for XGBoost Classifier')\n",
    "plt.xlabel('Recall(TPR)')\n",
    "plt.ylabel('Precision')\n",
    "plt.xlim([-0.05,1.05])\n",
    "plt.ylim([-0.05,1.05])\n",
    "plt.legend()\n",
    "plt.show()"
   ]
  }
 ],
 "metadata": {
  "kernelspec": {
   "display_name": "Python [conda env:TF3] *",
   "language": "python",
   "name": "conda-env-TF3-py"
  },
  "language_info": {
   "codemirror_mode": {
    "name": "ipython",
    "version": 3
   },
   "file_extension": ".py",
   "mimetype": "text/x-python",
   "name": "python",
   "nbconvert_exporter": "python",
   "pygments_lexer": "ipython3",
   "version": "3.8.12"
  }
 },
 "nbformat": 4,
 "nbformat_minor": 5
}
